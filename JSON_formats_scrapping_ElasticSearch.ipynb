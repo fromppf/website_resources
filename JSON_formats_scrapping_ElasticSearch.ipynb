{
 "cells": [
  {
   "cell_type": "markdown",
   "metadata": {},
   "source": [
    "# <font color='blue'> Scrapping NBA - Basketball data - JSON</font> \n"
   ]
  },
  {
   "cell_type": "markdown",
   "metadata": {},
   "source": [
    "## JSON context and examples"
   ]
  },
  {
   "cell_type": "markdown",
   "metadata": {},
   "source": [
    "**JSON format (JavaScript Object Notation)** is a text format independent of the programming language used. We can jave JSON files as we have any other file-format. This format is a collection of name/value pairs (similar to the concept of Python dictionaries {key:value}. \n",
    "\n",
    "It is also known as: record, struct, hash table, keyed list, or associative array.\n",
    "\n",
    "Example of this structure:\n"
   ]
  },
  {
   "cell_type": "code",
   "execution_count": 1,
   "metadata": {},
   "outputs": [
    {
     "data": {
      "text/plain": [
       "{'DOB': 'February 17, 1963',\n",
       " 'extra_note': {'source': 'Wikipedia',\n",
       "  'text': 'American retired professional basketball player, and owner of the Charlotte Hornets.'},\n",
       " 'player': {'firstName': 'Michael', 'lastName': 'Jordan'},\n",
       " 'teams_of_this_player': {'team1': 'Chicago Bulls',\n",
       "  'team2': 'Washington Wizards'}}"
      ]
     },
     "execution_count": 1,
     "metadata": {},
     "output_type": "execute_result"
    }
   ],
   "source": [
    "\n",
    "{\n",
    "\"player\":\n",
    "\t\t{ \"firstName\":\"Michael\", \n",
    "          \"lastName\":\"Jordan\" \n",
    "        },\n",
    "\"teams_of_this_player\":\n",
    "\t\t{ \"team1\":\"Chicago Bulls\", \n",
    "          \"team2\":\"Washington Wizards\" \n",
    "        },\n",
    "\"DOB\": \n",
    " \t\t \"February 17, 1963\", \n",
    "\"extra_note\": \n",
    " \t\t{\"text\": \"American retired professional basketball player, and owner of the Charlotte Hornets.\",\n",
    "         \"source\": 'Wikipedia'\n",
    "        }\n",
    "}"
   ]
  },
  {
   "cell_type": "markdown",
   "metadata": {},
   "source": [
    "**Note** that this is similar to another file format that you might be interested in: **\"XML\"** (eXtensible Markup Language). This language was created as an annotation-system for documents, in order to help humans and machines to read and identify **< marks > and 'contents'**. Those marks have to be created according to the needs. (This is similar to JSON xcept for the end tag and the fact that JSON format is faster to read). It is highly used within an HTML context because XML is self descriptive and created to define information (as opposed to HTML which displays info).\n",
    "\n",
    "Take a look to this example:\n"
   ]
  },
  {
   "cell_type": "markdown",
   "metadata": {},
   "source": [
    "\n",
    "'''\n",
    "\n",
    "\t<player>\n",
    "\t\t<firstName>Michael</firstName>\n",
    "\t\t<lastName>Jordan</lastName>\n",
    "\t</player>\n",
    "\t<teams_of_this_player>\n",
    "\t\t<team1>Chicago Bulls</team1>\n",
    "\t\t<team2>Washington Wizards</team2>\n",
    "\t</teams_of_this_player>\n",
    "\t<DOB>February 17, 1963</DOB>\n",
    "\t<extra_note>\n",
    "\t\t<text>American retired professional basketball player, and owner of the Charlotte Hornets.</text>\n",
    "\t\t<source>Wikipedia</source>\n",
    "\t</extra_note>\n",
    "    \n",
    "'''"
   ]
  },
  {
   "cell_type": "markdown",
   "metadata": {},
   "source": [
    "**Python libraries** that help to deal with XML structures:  [xmltodict](https://github.com/martinblech/xmltodict) and [untangle](https://github.com/stchris/untangle)"
   ]
  },
  {
   "cell_type": "markdown",
   "metadata": {},
   "source": [
    "## JavaScript and JSON to Python dictionaries (.js)\n",
    "\n",
    "Now let's deal with the .js files of the NBA stats. [Website here](http://stats.nba.com)"
   ]
  },
  {
   "cell_type": "code",
   "execution_count": 2,
   "metadata": {
    "collapsed": true
   },
   "outputs": [],
   "source": [
    "\n",
    "# Python library \n",
    "import json\n"
   ]
  },
  {
   "cell_type": "code",
   "execution_count": 3,
   "metadata": {},
   "outputs": [
    {
     "name": "stdout",
     "output_type": "stream",
     "text": [
      "\n",
      "The variable required is located at the character-index number 4 \n",
      "\n",
      "Principal keys: [u'generated', u'players_count', u'data', u'teams_count', u'seasons_count']\n",
      "\n",
      "Secondary data-keys: [u'seasons', u'players', u'teams']\n",
      "\n"
     ]
    }
   ],
   "source": [
    "\n",
    "### Downloading the JAVASCRIPT file\n",
    "### http://stats.nba.com/js/data/ptsd/stats_ptsd.js\n",
    "\n",
    "out_pathname = \"scrap_docs/stats_ptsd.js\"\n",
    "with open(out_pathname,'r') as jf:\n",
    "    data = jf.read()\n",
    "    \n",
    "# JavaScript Variable\n",
    "\n",
    "target_variable = \"stats_ptsd = \"\n",
    "index_variable = data.find(target_variable)\n",
    "print ( \"\\nThe variable required is located at the character-index number {0} \\n\".format(index_variable) )\n",
    "\n",
    "# We should notice here that the data is structured in the folllowing way: \n",
    "# Douible quotes for prinicipal dictionaries: Generated, seasons_count, teams_count, players_count and data\n",
    "\n",
    "string_for_json = data[ index_variable+len(target_variable): -1]    # -1 to get rid of the semicolon  ;\n",
    "data_json = json.loads(string_for_json)\n",
    "\n",
    "print (\"Principal keys: {}\\n\".format(data_json.keys()))\n",
    "print (\"Secondary data-keys: {}\\n\".format(data_json['data'].keys()))\n"
   ]
  },
  {
   "cell_type": "markdown",
   "metadata": {},
   "source": [
    "## JSON to Python dictionaries (.json)\n",
    "\n",
    "Now let's work with the JSON format available in the NBA stats website.\n",
    "\n",
    "<table class=\"image\">\n",
    "<caption text-align=\"center\">This is how the data looks today!! </caption>\n",
    "<tr><td><img src=\"scrap_docs/Capture.PNG\" style=\"max-width:100%; width: 70%; max-width: none; text: 'hello'\" ></td></tr>\n",
    "</table>\n"
   ]
  },
  {
   "cell_type": "code",
   "execution_count": 4,
   "metadata": {
    "scrolled": false
   },
   "outputs": [
    {
     "name": "stdout",
     "output_type": "stream",
     "text": [
      "July\n",
      "\n",
      "Options: [u'bd', u'h', u'ac', u'ptsls', u'seq', u'gcode', u'is', u'v', u'vtm', u'an', u'stt', u'as', u'gid', u'gdte', u'st', u'ppdst', u'gdtutc', u'etm', u'htm', u'utctm', u'seri'] \n",
      "\n",
      "Example:\n",
      "\n",
      "{u'tn': u'Hornets', u're': u'1-0', u's': u'74', u'tid': 1610612766, u'tc': u'Charlotte', u'ta': u'CHA'}\n",
      "{u'tn': u'Heat', u're': u'0-1', u's': u'67', u'tid': 1610612748, u'tc': u'Miami', u'ta': u'MIA'}\n",
      "\n",
      "\n"
     ]
    }
   ],
   "source": [
    "\n",
    "### Downloading the JSON file\n",
    "### http://stats.nba.com/schedule/summerleague/#!?PD=N\n",
    "### http://data.nba.com/data/10s/v2015/json/mobile_teams/utah/2017/scores/14_todays_scores.json\n",
    "\n",
    "out_pathname = \"scrap_docs/14_full_schedule.json\"\n",
    "with open(out_pathname,'r') as jf:  \n",
    "    data = json.load(jf)\n",
    "    \n",
    "print data['lscd'][0]['mscd']['mon'] + \"\\n\"\n",
    "print \"Options:\", data['lscd'][0]['mscd']['g'][1].keys(), \"\\n\"\n",
    "\n",
    "print \"Example:\\n\"\n",
    "print data['lscd'][0]['mscd']['g'][0]['v']  #Visit\n",
    "print data['lscd'][0]['mscd']['g'][0]['h']  # Host\n",
    "print \"\\n\"\n"
   ]
  },
  {
   "cell_type": "markdown",
   "metadata": {},
   "source": [
    "# <font color='blue'>  Elastic Search engine for JSON format </font> \n",
    "\n",
    "This is an example of how to work with elastic search in Python. You should first install the ElasticSearch Python-package and set-up your elasticsearch server. In other words, this means (in a local environment) that while using the following Python commands, I need to have a terminal/shell open (inside the elasticsearch/bin folder) in my computer with 'ElasticSearch' exec-file running [(details here).](https://www.elastic.co/downloads/elasticsearch)\n",
    "\n",
    "This **ElasticSearch engine** is a distributed and multitenant full-text search for JSON free-sructured documents. It has an HTTP web interface (we need the server/host) and it is based on an INDEX framework. It was developed in Java and now released public available by Apache, and used by Facebook, Mozilla, Soundcloud, among others.\n",
    "\n",
    "### Things to know about ElasticSearch:\n",
    "\n",
    "- To creat a better context for elastic search you might want to consider data-structures based on:\n",
    "    * How data flows in your current system\n",
    "    * Streaming/real-time vs static\n",
    "- Index should include these properties\n",
    "    * atomic, consistent, isolated and durable\n",
    "- Relations can still be done (like in a SQL context)\n",
    "    * For example: You can have an index-type for users {'user': { 1:{'age':15,'name':'John T'}, 2:{'age':18,'name':'Sarah V'} }  and then match with another index-type {websites: { '_id':122456, 'info':{'user':2,'url':'sarahcom'} }. Those types can definitely be joined. \n",
    "- During index creation we can consider to \"denormlize\"\n",
    "    * This means that we can have redundant copies to do less queries (each document contains all the information to determine matches). We could put the user info inside the website info too, as here  {websites: { '_id':122456, 'info':{'user':2,'url':'sarahcom'}, 'user': { 'age':18,'name':'Sarah V' } }  and then build queries doing \"user.age\"\n",
    "- You should try to avoid language problems with the following ideas:\n",
    "    * Remove diadritics\n",
    "    * Reduce words and keys to 'roots' of words (sstemming and lemmatization)\n",
    "    * Remove [stopwords](https://en.wikipedia.org/wiki/Stop_words)\n",
    "    * Include synonyms to work better with misspelling \n",
    "    * Misspelling can be addressed with \"Leveshtem Distance\" and \"Fuzzy match\" (4 main techniques: substituion of chars, insert new chars, delete a char, and transpose a char)\n",
    "- Naming conventions for field-names\n",
    "    * lower case, underscore \"_\" for combined words, go from general index to particular (system->core->user->data), if you have 2 fields that explain the same information but in 2 units/measures then remove the less granular (keep the details), use singular and plural in your favor to make keys self-descriptive (if you have many requests write \"requests_num\" as your key instad of \"request_num\")\n",
    "    \n",
    "### Now, let's work with our JSON in an ElasticSearch context"
   ]
  },
  {
   "cell_type": "code",
   "execution_count": 5,
   "metadata": {},
   "outputs": [
    {
     "data": {
      "text/plain": [
       "(1, [])"
      ]
     },
     "execution_count": 5,
     "metadata": {},
     "output_type": "execute_result"
    }
   ],
   "source": [
    "\n",
    "from elasticsearch import Elasticsearch, helpers\n",
    "import sys, os\n",
    "\n",
    "es = Elasticsearch()\n",
    "\n",
    "def load_json(filename):\n",
    "    if filename.endswith('.json'):\n",
    "        with open(filename,'r') as open_file:\n",
    "            yield json.load(open_file)\n",
    "\n",
    "helpers.bulk(es, load_json(\"scrap_docs/14_full_schedule.json\"), index='index_basket', doc_type='games_scores')\n"
   ]
  },
  {
   "cell_type": "code",
   "execution_count": 7,
   "metadata": {
    "scrolled": false
   },
   "outputs": [
    {
     "data": {
      "text/plain": [
       "{u'ac': u'Orlando',\n",
       " u'an': u'Amway Center',\n",
       " u'as': u'FL',\n",
       " u'bd': {u'b': [{u'disp': u'NBATV',\n",
       "    u'lan': u'English',\n",
       "    u'scope': u'natl',\n",
       "    u'seq': 1,\n",
       "    u'type': u'tv'}]},\n",
       " u'etm': u'2017-07-01T11:00:00',\n",
       " u'gcode': u'20170701/CHAMIA',\n",
       " u'gdte': u'2017-07-01',\n",
       " u'gdtutc': u'2017-07-01',\n",
       " u'gid': u'1421700001',\n",
       " u'h': {u're': u'0-1',\n",
       "  u's': u'67',\n",
       "  u'ta': u'MIA',\n",
       "  u'tc': u'Miami',\n",
       "  u'tid': 1610612748,\n",
       "  u'tn': u'Heat'},\n",
       " u'htm': u'2017-07-01T11:00:00',\n",
       " u'is': 1,\n",
       " u'ppdst': u'I',\n",
       " u'ptsls': {u'pl': [{u'fn': u'Okaro',\n",
       "    u'ln': u'White',\n",
       "    u'pid': u'1627855',\n",
       "    u'ta': u'MIA',\n",
       "    u'tc': u'Miami',\n",
       "    u'tid': 1610612748,\n",
       "    u'tn': u'Heat',\n",
       "    u'val': u'20'}]},\n",
       " u'seq': 1,\n",
       " u'seri': u'',\n",
       " u'st': u'3',\n",
       " u'stt': u'Final',\n",
       " u'utctm': u'15:00',\n",
       " u'v': {u're': u'1-0',\n",
       "  u's': u'74',\n",
       "  u'ta': u'CHA',\n",
       "  u'tc': u'Charlotte',\n",
       "  u'tid': 1610612766,\n",
       "  u'tn': u'Hornets'},\n",
       " u'vtm': u'2017-07-01T11:00:00'}"
      ]
     },
     "execution_count": 7,
     "metadata": {},
     "output_type": "execute_result"
    }
   ],
   "source": [
    "\n",
    "## Get results based on ID.\n",
    "\n",
    "## I got the ID from the command \"GET index_basket/games_scores/_search\" in the Chrome SENSE console\n",
    "## They can change once you re-run this\n",
    "## https://chrome.google.com/webstore/detail/sense-beta/lhjgkmllcaadmopgmanpapmpjgmfcfig?hl=en\n",
    "\n",
    "result= es.get(index='index_basket', doc_type='games_scores', id= \"AV12BTAghrFY_Cr3ITXW\")\n",
    "\n",
    "result['_source']['lscd'][0]['mscd']['g'][0]\n"
   ]
  },
  {
   "cell_type": "code",
   "execution_count": 8,
   "metadata": {},
   "outputs": [
    {
     "data": {
      "text/plain": [
       "{u'acknowledged': True}"
      ]
     },
     "execution_count": 8,
     "metadata": {},
     "output_type": "execute_result"
    }
   ],
   "source": [
    "\n",
    "es.indices.delete(index='index_basket', ignore=[400, 404])\n"
   ]
  },
  {
   "cell_type": "markdown",
   "metadata": {},
   "source": [
    "### JSON from the web  (json response from the web)"
   ]
  },
  {
   "cell_type": "code",
   "execution_count": 9,
   "metadata": {},
   "outputs": [
    {
     "data": {
      "text/html": [
       "<div>\n",
       "<style>\n",
       "    .dataframe thead tr:only-child th {\n",
       "        text-align: right;\n",
       "    }\n",
       "\n",
       "    .dataframe thead th {\n",
       "        text-align: left;\n",
       "    }\n",
       "\n",
       "    .dataframe tbody tr th {\n",
       "        vertical-align: top;\n",
       "    }\n",
       "</style>\n",
       "<table border=\"1\" class=\"dataframe\">\n",
       "  <thead>\n",
       "    <tr style=\"text-align: right;\">\n",
       "      <th></th>\n",
       "      <th>TeamID</th>\n",
       "      <th>SEASON</th>\n",
       "      <th>LeagueID</th>\n",
       "      <th>PLAYER</th>\n",
       "      <th>NUM</th>\n",
       "      <th>POSITION</th>\n",
       "      <th>HEIGHT</th>\n",
       "      <th>WEIGHT</th>\n",
       "      <th>BIRTH_DATE</th>\n",
       "      <th>AGE</th>\n",
       "      <th>EXP</th>\n",
       "      <th>SCHOOL</th>\n",
       "      <th>PLAYER_ID</th>\n",
       "    </tr>\n",
       "  </thead>\n",
       "  <tbody>\n",
       "    <tr>\n",
       "      <th>0</th>\n",
       "      <td>1610612737</td>\n",
       "      <td>2013</td>\n",
       "      <td>00</td>\n",
       "      <td>Jeff Teague</td>\n",
       "      <td>0</td>\n",
       "      <td>G</td>\n",
       "      <td>6-2</td>\n",
       "      <td>181</td>\n",
       "      <td>JUN 10, 1988</td>\n",
       "      <td>26.0</td>\n",
       "      <td>4</td>\n",
       "      <td>Wake Forest</td>\n",
       "      <td>201952</td>\n",
       "    </tr>\n",
       "    <tr>\n",
       "      <th>1</th>\n",
       "      <td>1610612737</td>\n",
       "      <td>2013</td>\n",
       "      <td>00</td>\n",
       "      <td>Lou Williams</td>\n",
       "      <td>3</td>\n",
       "      <td>G</td>\n",
       "      <td>6-1</td>\n",
       "      <td>175</td>\n",
       "      <td>OCT 27, 1986</td>\n",
       "      <td>27.0</td>\n",
       "      <td>8</td>\n",
       "      <td>South Gwinnett HS (GA)</td>\n",
       "      <td>101150</td>\n",
       "    </tr>\n",
       "    <tr>\n",
       "      <th>2</th>\n",
       "      <td>1610612737</td>\n",
       "      <td>2013</td>\n",
       "      <td>00</td>\n",
       "      <td>Paul Millsap</td>\n",
       "      <td>4</td>\n",
       "      <td>F</td>\n",
       "      <td>6-8</td>\n",
       "      <td>253</td>\n",
       "      <td>FEB 10, 1985</td>\n",
       "      <td>29.0</td>\n",
       "      <td>7</td>\n",
       "      <td>Louisiana Tech</td>\n",
       "      <td>200794</td>\n",
       "    </tr>\n",
       "    <tr>\n",
       "      <th>3</th>\n",
       "      <td>1610612737</td>\n",
       "      <td>2013</td>\n",
       "      <td>00</td>\n",
       "      <td>DeMarre Carroll</td>\n",
       "      <td>5</td>\n",
       "      <td>F</td>\n",
       "      <td>6-8</td>\n",
       "      <td>212</td>\n",
       "      <td>JUL 27, 1986</td>\n",
       "      <td>27.0</td>\n",
       "      <td>4</td>\n",
       "      <td>Missouri</td>\n",
       "      <td>201960</td>\n",
       "    </tr>\n",
       "    <tr>\n",
       "      <th>4</th>\n",
       "      <td>1610612737</td>\n",
       "      <td>2013</td>\n",
       "      <td>00</td>\n",
       "      <td>Pero Antic</td>\n",
       "      <td>6</td>\n",
       "      <td>C</td>\n",
       "      <td>6-11</td>\n",
       "      <td>260</td>\n",
       "      <td>JUL 29, 1982</td>\n",
       "      <td>31.0</td>\n",
       "      <td>R</td>\n",
       "      <td>Macedonia</td>\n",
       "      <td>203544</td>\n",
       "    </tr>\n",
       "    <tr>\n",
       "      <th>5</th>\n",
       "      <td>1610612737</td>\n",
       "      <td>2013</td>\n",
       "      <td>00</td>\n",
       "      <td>Shelvin Mack</td>\n",
       "      <td>8</td>\n",
       "      <td>G</td>\n",
       "      <td>6-3</td>\n",
       "      <td>207</td>\n",
       "      <td>APR 22, 1990</td>\n",
       "      <td>24.0</td>\n",
       "      <td>2</td>\n",
       "      <td>Butler</td>\n",
       "      <td>202714</td>\n",
       "    </tr>\n",
       "    <tr>\n",
       "      <th>6</th>\n",
       "      <td>1610612737</td>\n",
       "      <td>2013</td>\n",
       "      <td>00</td>\n",
       "      <td>John Jenkins</td>\n",
       "      <td>12</td>\n",
       "      <td>G</td>\n",
       "      <td>6-4</td>\n",
       "      <td>215</td>\n",
       "      <td>MAR 06, 1991</td>\n",
       "      <td>23.0</td>\n",
       "      <td>1</td>\n",
       "      <td>Vanderbilt</td>\n",
       "      <td>203098</td>\n",
       "    </tr>\n",
       "    <tr>\n",
       "      <th>7</th>\n",
       "      <td>1610612737</td>\n",
       "      <td>2013</td>\n",
       "      <td>00</td>\n",
       "      <td>Gustavo Ayon</td>\n",
       "      <td>14</td>\n",
       "      <td>F-C</td>\n",
       "      <td>6-10</td>\n",
       "      <td>250</td>\n",
       "      <td>APR 01, 1985</td>\n",
       "      <td>29.0</td>\n",
       "      <td>2</td>\n",
       "      <td>Tepic, Mexico</td>\n",
       "      <td>202970</td>\n",
       "    </tr>\n",
       "    <tr>\n",
       "      <th>8</th>\n",
       "      <td>1610612737</td>\n",
       "      <td>2013</td>\n",
       "      <td>00</td>\n",
       "      <td>Al Horford</td>\n",
       "      <td>15</td>\n",
       "      <td>C-F</td>\n",
       "      <td>6-10</td>\n",
       "      <td>250</td>\n",
       "      <td>JUN 03, 1986</td>\n",
       "      <td>28.0</td>\n",
       "      <td>6</td>\n",
       "      <td>Florida</td>\n",
       "      <td>201143</td>\n",
       "    </tr>\n",
       "    <tr>\n",
       "      <th>9</th>\n",
       "      <td>1610612737</td>\n",
       "      <td>2013</td>\n",
       "      <td>00</td>\n",
       "      <td>Dennis Schroder</td>\n",
       "      <td>17</td>\n",
       "      <td>G</td>\n",
       "      <td>6-1</td>\n",
       "      <td>168</td>\n",
       "      <td>SEP 15, 1993</td>\n",
       "      <td>20.0</td>\n",
       "      <td>R</td>\n",
       "      <td>Germany</td>\n",
       "      <td>203471</td>\n",
       "    </tr>\n",
       "  </tbody>\n",
       "</table>\n",
       "</div>"
      ],
      "text/plain": [
       "       TeamID SEASON LeagueID           PLAYER NUM POSITION HEIGHT WEIGHT  \\\n",
       "0  1610612737   2013       00      Jeff Teague   0        G    6-2    181   \n",
       "1  1610612737   2013       00     Lou Williams   3        G    6-1    175   \n",
       "2  1610612737   2013       00     Paul Millsap   4        F    6-8    253   \n",
       "3  1610612737   2013       00  DeMarre Carroll   5        F    6-8    212   \n",
       "4  1610612737   2013       00       Pero Antic   6        C   6-11    260   \n",
       "5  1610612737   2013       00     Shelvin Mack   8        G    6-3    207   \n",
       "6  1610612737   2013       00     John Jenkins  12        G    6-4    215   \n",
       "7  1610612737   2013       00     Gustavo Ayon  14      F-C   6-10    250   \n",
       "8  1610612737   2013       00       Al Horford  15      C-F   6-10    250   \n",
       "9  1610612737   2013       00  Dennis Schroder  17        G    6-1    168   \n",
       "\n",
       "     BIRTH_DATE   AGE EXP                  SCHOOL  PLAYER_ID  \n",
       "0  JUN 10, 1988  26.0   4             Wake Forest     201952  \n",
       "1  OCT 27, 1986  27.0   8  South Gwinnett HS (GA)     101150  \n",
       "2  FEB 10, 1985  29.0   7          Louisiana Tech     200794  \n",
       "3  JUL 27, 1986  27.0   4                Missouri     201960  \n",
       "4  JUL 29, 1982  31.0   R               Macedonia     203544  \n",
       "5  APR 22, 1990  24.0   2                  Butler     202714  \n",
       "6  MAR 06, 1991  23.0   1              Vanderbilt     203098  \n",
       "7  APR 01, 1985  29.0   2           Tepic, Mexico     202970  \n",
       "8  JUN 03, 1986  28.0   6                 Florida     201143  \n",
       "9  SEP 15, 1993  20.0   R                 Germany     203471  "
      ]
     },
     "execution_count": 9,
     "metadata": {},
     "output_type": "execute_result"
    }
   ],
   "source": [
    "\n",
    "### Using internet protocol to download a JSON\n",
    "\n",
    "import requests\n",
    "import pandas as pd\n",
    "\n",
    "my_url= 'http://stats.nba.com/stats/commonteamroster?LeagueID=00&Season=2013-06&TeamID=1610612737'\n",
    "\n",
    "# We can get this from Inspect -> Network -> Headers -> Request headers -> User Agent\n",
    "# It changes if you use IOS or Windows \n",
    "\n",
    "headers_nba = {'User-Agent': 'Mozilla/5.0 (Windows NT 6.1; Win64; x64) AppleWebKit/537.36 (KHTML, like Gecko) Chrome/59.0.3071.115 Safari/537.36'}\n",
    "response = requests.get(my_url, headers = headers_nba)\n",
    "\n",
    "headers = response.json()['resultSets'][0]['headers']\n",
    "players = response.json()['resultSets'][0]['rowSet']\n",
    "players_df = pd.DataFrame(players, columns=headers)\n",
    "\n",
    "players_df.head(10)\n"
   ]
  },
  {
   "cell_type": "markdown",
   "metadata": {},
   "source": [
    "### Let's build our ElasticSearch index"
   ]
  },
  {
   "cell_type": "code",
   "execution_count": 10,
   "metadata": {
    "collapsed": true
   },
   "outputs": [],
   "source": [
    "\n",
    "players_dicts = players_df.to_dict(orient='index')\n",
    "\n",
    "es = Elasticsearch()\n",
    "\n",
    "for d in players_dicts:\n",
    "    es.index(index='index_basket', doc_type='team-roaster',id=d,body=players_dicts[d])\n"
   ]
  },
  {
   "cell_type": "code",
   "execution_count": 12,
   "metadata": {
    "scrolled": false
   },
   "outputs": [
    {
     "data": {
      "text/plain": [
       "{u'AGE': 27.0,\n",
       " u'BIRTH_DATE': u'OCT 27, 1986',\n",
       " u'EXP': u'8',\n",
       " u'HEIGHT': u'6-1',\n",
       " u'LeagueID': u'00',\n",
       " u'NUM': u'3',\n",
       " u'PLAYER': u'Lou Williams',\n",
       " u'PLAYER_ID': 101150,\n",
       " u'POSITION': u'G',\n",
       " u'SCHOOL': u'South Gwinnett HS (GA)',\n",
       " u'SEASON': u'2013',\n",
       " u'TeamID': 1610612737,\n",
       " u'WEIGHT': u'175'}"
      ]
     },
     "execution_count": 12,
     "metadata": {},
     "output_type": "execute_result"
    }
   ],
   "source": [
    "\n",
    "## Option1 for queries\n",
    "myquery = {\n",
    "    \"query\": {\n",
    "        \"match\" : {\"PLAYER\": \"Lou Williams\"} \n",
    "    }\n",
    "}\n",
    "result = es.search(index='index_basket', doc_type='team-roaster',body=myquery ,explain=True)\n",
    "\n",
    "\n",
    "## Option2 for queries\n",
    "result = es.search(index='index_basket', doc_type='team-roaster', q='Lou' ,explain=True)\n",
    "result['hits']['hits'][0][u'_source']\n"
   ]
  },
  {
   "cell_type": "code",
   "execution_count": 13,
   "metadata": {},
   "outputs": [
    {
     "name": "stdout",
     "output_type": "stream",
     "text": [
      "('Results', 8)\n",
      "('Score = ', 0.9351026)\n",
      "\n",
      "Score is the boolean model to find matching documents and the formula to computea a relevance met\n",
      "\n"
     ]
    },
    {
     "data": {
      "text/plain": [
       "{u'AGE': 27.0,\n",
       " u'BIRTH_DATE': u'OCT 27, 1986',\n",
       " u'EXP': u'8',\n",
       " u'HEIGHT': u'6-1',\n",
       " u'LeagueID': u'00',\n",
       " u'NUM': u'3',\n",
       " u'PLAYER': u'Lou Williams',\n",
       " u'PLAYER_ID': 101150,\n",
       " u'POSITION': u'G',\n",
       " u'SCHOOL': u'South Gwinnett HS (GA)',\n",
       " u'SEASON': u'2013',\n",
       " u'TeamID': 1610612737,\n",
       " u'WEIGHT': u'175'}"
      ]
     },
     "execution_count": 13,
     "metadata": {},
     "output_type": "execute_result"
    }
   ],
   "source": [
    "\n",
    "print (\"Results\", len(result['hits']['hits'][0]) )\n",
    "print (\"Score = \", result['hits']['hits'][0]['_score'] )\n",
    "\n",
    "print (\"\\nScore is the boolean model to find matching documents and the formula to computea a relevance met\\n\")\n",
    "\n",
    "result['hits']['hits'][0][u'_source']\n"
   ]
  },
  {
   "cell_type": "code",
   "execution_count": 14,
   "metadata": {},
   "outputs": [
    {
     "data": {
      "text/plain": [
       "{u'acknowledged': True}"
      ]
     },
     "execution_count": 14,
     "metadata": {},
     "output_type": "execute_result"
    }
   ],
   "source": [
    "\n",
    "es.indices.delete(index='index_basket', ignore=[400, 404])\n"
   ]
  },
  {
   "cell_type": "markdown",
   "metadata": {},
   "source": [
    "## Tool created from this data:  [Basket Strategies in Shiny](https://mariazm.shinyapps.io/basketstrategies/)"
   ]
  },
  {
   "cell_type": "code",
   "execution_count": null,
   "metadata": {
    "collapsed": true
   },
   "outputs": [],
   "source": [
    "\n",
    "### Video Demo\n",
    "#<p>\n",
    "#<video controls src=\"Attachments/App_Demo.mp4\" />\n",
    "#</p>\n"
   ]
  }
 ],
 "metadata": {
  "kernelspec": {
   "display_name": "Python 2",
   "language": "python",
   "name": "python2"
  },
  "language_info": {
   "codemirror_mode": {
    "name": "ipython",
    "version": 2
   },
   "file_extension": ".py",
   "mimetype": "text/x-python",
   "name": "python",
   "nbconvert_exporter": "python",
   "pygments_lexer": "ipython2",
   "version": "2.7.13"
  }
 },
 "nbformat": 4,
 "nbformat_minor": 2
}
