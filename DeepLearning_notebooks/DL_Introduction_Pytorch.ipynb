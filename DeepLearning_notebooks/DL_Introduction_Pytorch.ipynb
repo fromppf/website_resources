{
 "cells": [
  {
   "cell_type": "markdown",
   "metadata": {},
   "source": [
    "# Deep Learning with PyTorch\n",
    "    \n",
    "Maria Leonor Zamora Maass - 2017\n",
    "\n",
    "***\n",
    "***\n",
    "    \n",
    "[original tutorial](http://pytorch.org/tutorials/beginner/deep_learning_60min_blitz.html) and also installations [available here](https://github.com/pytorch/pytorch)"
   ]
  },
  {
   "cell_type": "code",
   "execution_count": 1,
   "metadata": {
    "collapsed": true
   },
   "outputs": [],
   "source": [
    "from __future__ import print_function\n",
    "import torch"
   ]
  },
  {
   "cell_type": "markdown",
   "metadata": {},
   "source": [
    "### Tensor"
   ]
  },
  {
   "cell_type": "code",
   "execution_count": 4,
   "metadata": {},
   "outputs": [
    {
     "data": {
      "text/plain": [
       "\n",
       "1.00000e-37 *\n",
       "  0.0000  0.0000  0.0000\n",
       "  0.0000  0.0000  0.0000\n",
       "  0.0000  0.0000  0.0000\n",
       "  0.0000  0.0000  0.0000\n",
       "  1.6751  0.0003  0.0000\n",
       "[torch.FloatTensor of size 5x3]"
      ]
     },
     "execution_count": 4,
     "metadata": {},
     "output_type": "execute_result"
    }
   ],
   "source": [
    "x = torch.Tensor(5, 3)  # construct a 5x3 matrix, uninitialized\n",
    "x"
   ]
  },
  {
   "cell_type": "code",
   "execution_count": 5,
   "metadata": {},
   "outputs": [
    {
     "data": {
      "text/plain": [
       "\n",
       " 0.5731  0.0801  0.0650\n",
       " 0.8473  0.3961  0.0105\n",
       " 0.5010  0.7684  0.2788\n",
       " 0.2943  0.9667  0.5829\n",
       " 0.9286  0.2965  0.9549\n",
       "[torch.FloatTensor of size 5x3]"
      ]
     },
     "execution_count": 5,
     "metadata": {},
     "output_type": "execute_result"
    }
   ],
   "source": [
    "x = torch.rand(5, 3) \n",
    "x"
   ]
  },
  {
   "cell_type": "code",
   "execution_count": 6,
   "metadata": {},
   "outputs": [
    {
     "data": {
      "text/plain": [
       "torch.Size([5, 3])"
      ]
     },
     "execution_count": 6,
     "metadata": {},
     "output_type": "execute_result"
    }
   ],
   "source": [
    "x.size()"
   ]
  },
  {
   "cell_type": "code",
   "execution_count": 7,
   "metadata": {},
   "outputs": [
    {
     "data": {
      "text/plain": [
       "\n",
       " 0.3629  0.4611  0.9046\n",
       " 0.0308  0.4297  0.0451\n",
       " 0.1399  0.1842  0.1748\n",
       " 0.1082  0.4156  0.6624\n",
       " 0.2422  0.5442  0.7985\n",
       "[torch.FloatTensor of size 5x3]"
      ]
     },
     "execution_count": 7,
     "metadata": {},
     "output_type": "execute_result"
    }
   ],
   "source": [
    "y = torch.rand(5, 3)\n",
    "y"
   ]
  },
  {
   "cell_type": "code",
   "execution_count": 8,
   "metadata": {},
   "outputs": [
    {
     "data": {
      "text/plain": [
       "\n",
       " 0.9360  0.5412  0.9696\n",
       " 0.8780  0.8257  0.0556\n",
       " 0.6408  0.9525  0.4536\n",
       " 0.4024  1.3823  1.2453\n",
       " 1.1709  0.8407  1.7535\n",
       "[torch.FloatTensor of size 5x3]"
      ]
     },
     "execution_count": 8,
     "metadata": {},
     "output_type": "execute_result"
    }
   ],
   "source": [
    "x + y"
   ]
  },
  {
   "cell_type": "code",
   "execution_count": 9,
   "metadata": {},
   "outputs": [
    {
     "data": {
      "text/plain": [
       "\n",
       " 0.9360  0.5412  0.9696\n",
       " 0.8780  0.8257  0.0556\n",
       " 0.6408  0.9525  0.4536\n",
       " 0.4024  1.3823  1.2453\n",
       " 1.1709  0.8407  1.7535\n",
       "[torch.FloatTensor of size 5x3]"
      ]
     },
     "execution_count": 9,
     "metadata": {},
     "output_type": "execute_result"
    }
   ],
   "source": [
    "result2 = torch.Tensor(5, 3)\n",
    "torch.add(x, y, out=result2)\n",
    "result2"
   ]
  },
  {
   "cell_type": "code",
   "execution_count": 10,
   "metadata": {},
   "outputs": [
    {
     "data": {
      "text/plain": [
       "\n",
       " 0.5412\n",
       " 0.8257\n",
       " 0.9525\n",
       " 1.3823\n",
       " 0.8407\n",
       "[torch.FloatTensor of size 5]"
      ]
     },
     "execution_count": 10,
     "metadata": {},
     "output_type": "execute_result"
    }
   ],
   "source": [
    "result2[:,1]"
   ]
  },
  {
   "cell_type": "markdown",
   "metadata": {},
   "source": [
    "### Tensor and Numpy"
   ]
  },
  {
   "cell_type": "code",
   "execution_count": 11,
   "metadata": {},
   "outputs": [
    {
     "data": {
      "text/plain": [
       "array([ 1.,  1.,  1.,  1.,  1.], dtype=float32)"
      ]
     },
     "execution_count": 11,
     "metadata": {},
     "output_type": "execute_result"
    }
   ],
   "source": [
    "\n",
    "a = torch.ones(5)\n",
    "b = a.numpy()\n",
    "b\n"
   ]
  },
  {
   "cell_type": "code",
   "execution_count": 12,
   "metadata": {},
   "outputs": [
    {
     "name": "stdout",
     "output_type": "stream",
     "text": [
      "[ 2.  2.  2.  2.  2.]\n",
      "\n",
      " 2\n",
      " 2\n",
      " 2\n",
      " 2\n",
      " 2\n",
      "[torch.DoubleTensor of size 5]\n",
      "\n"
     ]
    }
   ],
   "source": [
    "import numpy as np\n",
    "a = np.ones(5)\n",
    "b = torch.from_numpy(a)\n",
    "np.add(a, 1, out=a)\n",
    "print(a)\n",
    "print(b)  # see how changing the np array changed the torch Tensor (we did not add to \"b\" but it did with a)"
   ]
  },
  {
   "cell_type": "code",
   "execution_count": 13,
   "metadata": {},
   "outputs": [
    {
     "name": "stdout",
     "output_type": "stream",
     "text": [
      "not available\n"
     ]
    }
   ],
   "source": [
    "# let us run this cell only if CUDA is available\n",
    "if torch.cuda.is_available():\n",
    "    x = x.cuda()\n",
    "    y = y.cuda()\n",
    "    print (x + y)\n",
    "else:\n",
    "    print (\"not available\")\n",
    "    "
   ]
  },
  {
   "cell_type": "markdown",
   "metadata": {},
   "source": [
    "# Exercises: \n",
    "\n",
    "- Initialize random tensors a, b, c of size [2,3], [2,3], [3,2,3].\n",
    "\n"
   ]
  },
  {
   "cell_type": "code",
   "execution_count": 14,
   "metadata": {},
   "outputs": [
    {
     "data": {
      "text/plain": [
       "\n",
       "(0 ,.,.) = \n",
       "  0.2510  0.0345  0.3685\n",
       "  0.0054  0.5647  0.0854\n",
       "\n",
       "(1 ,.,.) = \n",
       "  0.5919  0.3376  0.7182\n",
       "  0.7328  0.3233  0.7998\n",
       "\n",
       "(2 ,.,.) = \n",
       "  0.3985  0.2986  0.8368\n",
       "  0.4002  0.5198  0.5141\n",
       "[torch.FloatTensor of size 3x2x3]"
      ]
     },
     "execution_count": 14,
     "metadata": {},
     "output_type": "execute_result"
    }
   ],
   "source": [
    "a = torch.rand(2, 3)\n",
    "b = torch.rand(2, 3)\n",
    "c = torch.rand(3,2,3)\n",
    "c"
   ]
  },
  {
   "cell_type": "markdown",
   "metadata": {},
   "source": [
    "- Fill tensor a with all 10\n",
    "- Fill tensor b with elements being sampled from the normal distribution\n",
    "- Point-wise multiply a with b, and put the result into tensor b\n",
    "- Print the mean and std of the elements of b\n"
   ]
  },
  {
   "cell_type": "code",
   "execution_count": 15,
   "metadata": {},
   "outputs": [
    {
     "name": "stdout",
     "output_type": "stream",
     "text": [
      "\n",
      " 10  10  10\n",
      " 10  10  10\n",
      "[torch.FloatTensor of size 2x3]\n",
      "\n",
      "\n",
      " 0.8262 -0.3534  0.6512\n",
      " 0.9895  0.7217  1.0319\n",
      "[torch.FloatTensor of size 2x3]\n",
      "\n",
      "\n",
      "  8.2616  -3.5344   6.5124\n",
      "  9.8946   7.2175  10.3195\n",
      "[torch.FloatTensor of size 2x3]\n",
      "\n",
      "6.44518756866\n"
     ]
    }
   ],
   "source": [
    "a.fill_(10)\n",
    "b.normal_()\n",
    "print (a)\n",
    "print (b)\n",
    "torch.mul(a,b,out=b)\n",
    "print (b)\n",
    "print (b.mean())"
   ]
  },
  {
   "cell_type": "markdown",
   "metadata": {},
   "source": [
    "- Fill tensor c with elements samples from the uniform distribution U(-1,1)\n",
    "- Transpose the second and third dimension of tensor c, and put the result into tensor c itself (in-place).\n"
   ]
  },
  {
   "cell_type": "code",
   "execution_count": 16,
   "metadata": {},
   "outputs": [
    {
     "name": "stdout",
     "output_type": "stream",
     "text": [
      "\n",
      "(0 ,.,.) = \n",
      "  0.9674  0.1980 -0.7282\n",
      "  0.3905  0.3148 -0.1972\n",
      "\n",
      "(1 ,.,.) = \n",
      "  0.6010 -0.7443 -0.1513\n",
      "  0.2138 -0.0224  0.7998\n",
      "\n",
      "(2 ,.,.) = \n",
      " -0.6130 -0.3814  0.3756\n",
      " -0.1840 -0.5064  0.2952\n",
      "[torch.FloatTensor of size 3x2x3]\n",
      "\n"
     ]
    },
    {
     "data": {
      "text/plain": [
       "\n",
       "(0 ,.,.) = \n",
       "  0.9674  0.3905\n",
       "  0.1980  0.3148\n",
       " -0.7282 -0.1972\n",
       "\n",
       "(1 ,.,.) = \n",
       "  0.6010  0.2138\n",
       " -0.7443 -0.0224\n",
       " -0.1513  0.7998\n",
       "\n",
       "(2 ,.,.) = \n",
       " -0.6130 -0.1840\n",
       " -0.3814 -0.5064\n",
       "  0.3756  0.2952\n",
       "[torch.FloatTensor of size 3x3x2]"
      ]
     },
     "execution_count": 16,
     "metadata": {},
     "output_type": "execute_result"
    }
   ],
   "source": [
    "c.uniform_(-1,1)\n",
    "print (c)\n",
    "c.transpose_(2,1)"
   ]
  },
  {
   "cell_type": "markdown",
   "metadata": {},
   "source": [
    "- Show the contiguity property of the tensors\n",
    "- Print the second column of the third dimension of tensor c (note zero-indexed)"
   ]
  },
  {
   "cell_type": "code",
   "execution_count": 17,
   "metadata": {},
   "outputs": [
    {
     "data": {
      "text/plain": [
       "\n",
       "-0.1840\n",
       "-0.5064\n",
       " 0.2952\n",
       "[torch.FloatTensor of size 3]"
      ]
     },
     "execution_count": 17,
     "metadata": {},
     "output_type": "execute_result"
    }
   ],
   "source": [
    "c[2][:,1]"
   ]
  },
  {
   "cell_type": "code",
   "execution_count": 49,
   "metadata": {},
   "outputs": [
    {
     "data": {
      "text/plain": [
       "\n",
       "-0.1840\n",
       "-0.5064\n",
       " 0.2952\n",
       "[torch.FloatTensor of size 3]"
      ]
     },
     "execution_count": 49,
     "metadata": {},
     "output_type": "execute_result"
    }
   ],
   "source": [
    "c.select(2,1).transpose(0,1).select(1,2)"
   ]
  }
 ],
 "metadata": {
  "kernelspec": {
   "display_name": "Python 2",
   "language": "python",
   "name": "python2"
  },
  "language_info": {
   "codemirror_mode": {
    "name": "ipython",
    "version": 2
   },
   "file_extension": ".py",
   "mimetype": "text/x-python",
   "name": "python",
   "nbconvert_exporter": "python",
   "pygments_lexer": "ipython2",
   "version": "2.7.13"
  }
 },
 "nbformat": 4,
 "nbformat_minor": 1
}
